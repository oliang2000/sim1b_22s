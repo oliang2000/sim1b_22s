{
 "cells": [
  {
   "cell_type": "markdown",
   "metadata": {},
   "source": [
    "# Demostration\n",
    "\n",
    "### This notebook generates a galaxy-galxy strong lensing system in DECaLS condidtion. It uses a real LRG from DECaLS. The source is sersic simply, and taken from Collect (2015)."
   ]
  },
  {
   "cell_type": "code",
   "execution_count": 4,
   "metadata": {
    "ExecuteTime": {
     "end_time": "2022-01-30T05:52:19.450326Z",
     "start_time": "2022-01-30T05:52:18.722194Z"
    }
   },
   "outputs": [],
   "source": [
    "import cv2\n",
    "import os\n",
    "import glob\n",
    "\n",
    "import numpy as np\n",
    "import pandas as pd\n",
    "from astropy.io import fits\n",
    "\n",
    "import matplotlib.pyplot as pl\n",
    "import download_desi_img as ddi\n",
    "\n",
    "import compose_class as compose_class\n",
    "from scipy.ndimage import gaussian_filter\n",
    "from astropy.cosmology import Planck18 as cosmo\n",
    "\n",
    "#a random seed for each run\n",
    "import time\n",
    "t = 1000 * time.time() # current time in milliseconds\n",
    "seed = int(t) % 2**32\n",
    "np.random.seed(seed)"
   ]
  },
  {
   "cell_type": "code",
   "execution_count": 5,
   "metadata": {
    "ExecuteTime": {
     "end_time": "2022-01-30T05:52:21.603239Z",
     "start_time": "2022-01-30T05:52:21.570652Z"
    },
    "code_folding": []
   },
   "outputs": [],
   "source": [
    "##functions\n",
    "\n",
    "def Fluxr2Sigmav(zlens, re_arcsec, flux_r):\n",
    "    \n",
    "    #Use fundamental plane to estimate the velocity disp. of lens galaxy\n",
    "    #Joseph B. Hyde and Mariangela Bernardi\n",
    "    #https://doi.org/10.1111/j.1365-2966.2009.14783.x\n",
    "    \n",
    "    #np.random.seed(19960518)\n",
    "    \n",
    "    a_par = 1.4335; b_par = 0.3150; c_par = -8.8979\n",
    "\n",
    "    Dd_angle = cosmo.angular_diameter_distance(zlens).value                     #Mpc\n",
    "\n",
    "    re_rad = (re_arcsec/3600) * np.pi / 180\n",
    "    re_kpc = re_rad * Dd_angle * 1000                                           #kpc\n",
    "\n",
    "    flux_r_corrected = flux_r * 3.97 / 2\n",
    "    m_r_corrected = 22.5 - 2.5 * np.log10(flux_r_corrected)\n",
    "    m_r = 22.5 - 2.5 * np.log10(flux_r)\n",
    "\n",
    "    miu_e = m_r + 5 * np.log10(re_arcsec) + 2.5 * np.log10(2 * np.pi) - 10 * np.log10(1+zlens)\n",
    "    sigma = 10** ((1/a_par) * (np.log10(re_kpc) - b_par * miu_e - c_par)) * 1000 #SI\n",
    "    sigma = sigma * np.random.normal(1, 0.1 , [1, 1])\n",
    "    \n",
    "    return sigma[0][0]/1000 #km/s\n",
    "\n",
    "def MakeCertainFlux(ori,flux):\n",
    "    return ori * (flux/ori.sum())\n",
    "\n",
    "def XYTransform(x, y, x_cen, y_cen, phi):\n",
    "    xnew = (x - x_cen) * np.cos(np.pi * phi / 180.0) + (y - y_cen) * np.sin(np.pi * phi / 180.0)\n",
    "    ynew = -(x - x_cen) * np.sin(np.pi * phi / 180.0) + (y - y_cen) * np.cos(np.pi * phi / 180.0)\n",
    "    return (xnew, ynew)\n",
    "\n",
    "def GetDflAngle(x, y, lpar_local):\n",
    "    \n",
    "    # Calculating the img coordinate in source plane of an SIE mass profile following Kormann 1993\n",
    "    # The convergence has the form of kappa(x, y)=0.5*sqrt(q)*b_sie/sqrt(x^2+q^2*y^2)\n",
    "    # In this form, b_sie is the Einstein radius in the intermediate-axis convention\n",
    "    # lpar[0]: lens einstein radius arcsec\n",
    "    # lpar[1]: lens xcenter\n",
    "    # lpar[2]: lens ycenter\n",
    "    # lpar[3]: position angle in degreef\n",
    "    # lpar[4]: axis ratio\n",
    "    # lpar[3] = lpar[3]-90\n",
    "    \n",
    "    \n",
    "\n",
    "    if lpar_local[4] > 1.0:\n",
    "        lpar_local[4] = 1.0 / lpar_local[4]\n",
    "        lpar_local[3] = lpar_local[3] + 90.0\n",
    "    if lpar_local[3] > 180.0:\n",
    "        lpar_local[3] = lpar_local[3] - 180.0\n",
    "    elif lpar_local[3] < 0.0:\n",
    "        lpar_local[3] = lpar_local[3] + 180.0\n",
    "    (xnew, ynew) = XYTransform(x, y, lpar_local[1], lpar_local[2], lpar_local[3])  # rotational matrix\n",
    "    \n",
    "    \n",
    "\n",
    "    r_sie = np.sqrt(xnew ** 2. + ynew ** 2.)\n",
    "    qfact = np.sqrt((1.0 / lpar_local[4] - lpar_local[4]))\n",
    "    eps = 10. ** (-8)\n",
    "    \n",
    "    if np.abs(qfact) <= eps:  # sie -> sis\n",
    "        alpha_x = xnew / (r_sie + (r_sie == 0))\n",
    "        alpha_y = ynew / (r_sie + (r_sie == 0))\n",
    "    else:\n",
    "        alpha_x = np.arcsinh(np.sqrt(1.0 / lpar_local[4] ** 2.0 - 1.0) * xnew / (r_sie + (r_sie == 0))) / qfact\n",
    "        alpha_y =  np.arcsin(np.sqrt(1.0 - lpar_local[4] ** 2.0) * ynew / (r_sie + (r_sie == 0))) / qfact\n",
    "        \n",
    "    (alpha_x_new, alpha_y_new) = XYTransform(alpha_x, alpha_y, 0.0, 0.0, -lpar_local[3])\n",
    "    return  (lpar_local[0]*alpha_x_new, lpar_local[0]*alpha_y_new)\n",
    "\n",
    "def Sersic(xx,yy,Ie,re,n):\n",
    "    \n",
    "    theta = np.sqrt(xx**2+yy**2)\n",
    "    \n",
    "    bn = 1.9992*n-0.3271\n",
    "    res = Ie*np.exp(-bn*((theta/re)**(1/n)-1))\n",
    "    \n",
    "    return res\n",
    "\n",
    "def ApplyMaxValue(ori,max_value):\n",
    "    scaling_factor = ori.max()/max_value\n",
    "    return ori*(1/scaling_factor)\n",
    "\n",
    "def Mag2Flux(mag):\n",
    "    return 10**((1/2.5)*(22.5-mag))\n",
    "\n",
    "def GetLensedSRCLight(magg_src,magr_src,magz_src,re_src,beta_xx,beta_yy):\n",
    "    \n",
    "    light = Sersic(ptch_sky_xx,ptch_sky_yy,1,re_src,n_src)\n",
    "    light_g = MakeCertainFlux(light,Mag2Flux(magg_src))\n",
    "    light_r = MakeCertainFlux(light,Mag2Flux(magr_src))\n",
    "    light_z = MakeCertainFlux(light,Mag2Flux(magz_src))\n",
    "    \n",
    "    max_value_g = light_g.max()\n",
    "    max_value_r = light_r.max()\n",
    "    max_value_z = light_z.max()\n",
    "    \n",
    "    lnsd_g = ApplyMaxValue(Sersic(beta_xx,beta_yy,1,re_src,n_src),max_value_g)\n",
    "    lnsd_r = ApplyMaxValue(Sersic(beta_xx,beta_yy,1,re_src,n_src),max_value_r)\n",
    "    lnsd_z = ApplyMaxValue(Sersic(beta_xx,beta_yy,1,re_src,n_src),max_value_z)\n",
    "    \n",
    "    magnification = lnsd_g.sum()/light_g.sum()\n",
    "    \n",
    "    return lnsd_g,lnsd_r,lnsd_z,magnification\n",
    "\n",
    "def ColorIMG(light_g,light_r,light_z):\n",
    "    \n",
    "    # function to create a composite png image\n",
    "    \n",
    "    max_g = light_g.max()\n",
    "    max_r = light_r.max()\n",
    "    max_z = light_z.max()\n",
    "    img_rscl = max([max_g, max_r, max_z])\n",
    "    img_thds = 1e-6\n",
    "    img_g_rscl = light_g/img_rscl\n",
    "    img_r_rscl = light_r/img_rscl\n",
    "    img_z_rscl = light_z/img_rscl\n",
    "    img_g_rscl[np.where(img_g_rscl<=img_thds)] = img_thds\n",
    "    img_r_rscl[np.where(img_r_rscl<=img_thds)] = img_thds\n",
    "    img_z_rscl[np.where(img_z_rscl<=img_thds)] = img_thds\n",
    "\n",
    "    scales, offset, Q, alpha, masklevel, saturation, itype = (0.7,1.05,2.5), 0.0, 100, 0.2, -1.0, 'color', 'sum'\n",
    "    object_RGB = compose_class.channel_RGB(RED=img_z_rscl, GREEN=img_r_rscl, BLUE=img_g_rscl)\n",
    "    object_RGB.apply_scale(scales=scales)      \n",
    "    object_RGB.lupton_stretch(Q=Q, alpha=alpha, itype=itype)\n",
    "    object_RGB.pjm_mask(masklevel=masklevel)     \n",
    "    object_RGB.pjm_offset(offset=offset)       \n",
    "    object_RGB.lupton_saturate(saturation=saturation)\n",
    "    object_RGB.pack_up()\n",
    "    \n",
    "    return object_RGB\n",
    "\n",
    "\n",
    "\n",
    "def AddPOI(ideal_image=None,exposure=200):\n",
    "    #add Poisson noise to lensed arcs\n",
    "    \n",
    "    image_with_noise = np.copy(ideal_image)\n",
    "    image_= image_with_noise \n",
    "    counts = image_ * exposure  #ideal mean counts\n",
    "    counts = np.random.poisson(counts, image_.shape) #possion counts base on ideal counts\n",
    "    image_with_noise = counts*1.0/exposure #subtract the skylevel in image. this work can be done in pre-processing step\n",
    "    poisson_noise = np.sqrt(counts)\n",
    "    poisson_noise /= exposure  #-> counts/s\n",
    "    return image_with_noise, poisson_noise\n",
    "\n",
    "def CaculateEinsteinRadius(sigma_v,zd,zs):\n",
    "    \n",
    "    c=2.996e5 #km/s\n",
    "    \n",
    "    Ds_angle  = cosmo.angular_diameter_distance(zs).value         #Mpc\n",
    "    Dds_angle = cosmo.angular_diameter_distance_z1z2(zd,zs).value #Mpc\n",
    "\n",
    "    theta_e = 4 * np.pi * (sigma_v/c)**2 * (Dds_angle/Ds_angle) * (180/np.pi) * 3600\n",
    "    \n",
    "    return (theta_e)\n",
    "    "
   ]
  },
  {
   "cell_type": "code",
   "execution_count": 6,
   "metadata": {
    "ExecuteTime": {
     "end_time": "2022-01-30T05:52:22.216818Z",
     "start_time": "2022-01-30T05:52:22.192787Z"
    }
   },
   "outputs": [],
   "source": [
    "# load in lens catalog\n",
    "\n",
    "cmass_df = pd.read_csv(\"./cmass_bright.csv\")\n",
    "# cmass_df = pd.read_csv(\"./cmass.csv\")\n",
    "pxl_size_real = 0.27\n",
    "\n",
    "# load in source catalog\n",
    "# from: https://github.com/tcollett/LensPop (lense_DESa,b,c merged)\n",
    "# source_magi_df = pd.read_csv(\"./source_magi.csv\")\n",
    "source_df = pd.read_csv(\"./catalogue_t.csv\")"
   ]
  },
  {
   "cell_type": "markdown",
   "metadata": {},
   "source": [
    "# 1. Lens"
   ]
  },
  {
   "cell_type": "markdown",
   "metadata": {},
   "source": [
    "## 1.1 Select a Lens Galaxy"
   ]
  },
  {
   "cell_type": "code",
   "execution_count": 7,
   "metadata": {},
   "outputs": [],
   "source": [
    "import matplotlib.pyplot as plt"
   ]
  },
  {
   "cell_type": "code",
   "execution_count": 8,
   "metadata": {},
   "outputs": [],
   "source": [
    "## choose a lens from catalog\n",
    "cmass_idx = 5"
   ]
  },
  {
   "cell_type": "code",
   "execution_count": 9,
   "metadata": {},
   "outputs": [
    {
     "data": {
      "text/plain": [
       "Unnamed: 0           1203\n",
       "Unnamed: 0.1         1203\n",
       "ra_1             0.370623\n",
       "dec_1             31.2354\n",
       "TYPE                  DEV\n",
       "g                 19.9803\n",
       "r                 19.3023\n",
       "z                 18.5905\n",
       "w1                17.9549\n",
       "w2                17.9339\n",
       "rg_EXP                  0\n",
       "rg_DEV            8.92236\n",
       "fluxg             10.1829\n",
       "fluxr             19.0149\n",
       "fluxz             36.6275\n",
       "fluxw1            65.7721\n",
       "fluxw2            67.0593\n",
       "shapeexp_e1             0\n",
       "shapeexp_e2             0\n",
       "shapedev_e1     0.0286391\n",
       "shapedev_e2      0.398936\n",
       "col1               755501\n",
       "ra_2              0.37072\n",
       "dec_2             31.2354\n",
       "redshift          0.59297\n",
       "weight                  1\n",
       "mass_stellar      11.3008\n",
       "Separation       0.320033\n",
       "Name: 5, dtype: object"
      ]
     },
     "execution_count": 9,
     "metadata": {},
     "output_type": "execute_result"
    }
   ],
   "source": [
    "#print info\n",
    "cmass_df.iloc[cmass_idx]"
   ]
  },
  {
   "cell_type": "code",
   "execution_count": 10,
   "metadata": {
    "ExecuteTime": {
     "end_time": "2022-01-30T05:52:22.879339Z",
     "start_time": "2022-01-30T05:52:22.869354Z"
    }
   },
   "outputs": [],
   "source": [
    "# record info\n",
    "ra  = cmass_df.iloc[cmass_idx][\"ra_1\"]\n",
    "dec = cmass_df.iloc[cmass_idx][\"dec_1\"]\n",
    "zd  = cmass_df.iloc[cmass_idx][\"redshift\"]\n",
    "lens_name_png  = \"ra_\"+str(ra)+\"_dec_\"+str(dec)+\".png\"\n",
    "lens_name_fits = \"ra_\"+str(ra)+\"_dec_\"+str(dec)+\".fits\""
   ]
  },
  {
   "cell_type": "markdown",
   "metadata": {},
   "source": [
    "## 1.2 Observational Stamp of Lens"
   ]
  },
  {
   "cell_type": "code",
   "execution_count": 11,
   "metadata": {
    "ExecuteTime": {
     "end_time": "2022-01-30T05:52:23.316554Z",
     "start_time": "2022-01-30T05:52:23.310124Z"
    }
   },
   "outputs": [],
   "source": [
    "# download fits and png of the selected lens from Decals Data base\n",
    "\n",
    "if not os.path.isfile(\"./stamp/png/\"+lens_name_png):\n",
    "    ddi.DownloadByRaDec_PNG(ra,dec)\n",
    "if not os.path.isfile(\"./stamp/fits/\"+lens_name_fits):\n",
    "    ddi.DownloadByRaDec_FITS(ra,dec)"
   ]
  },
  {
   "cell_type": "code",
   "execution_count": 12,
   "metadata": {
    "ExecuteTime": {
     "end_time": "2022-01-30T05:52:23.745578Z",
     "start_time": "2022-01-30T05:52:23.622189Z"
    }
   },
   "outputs": [
    {
     "data": {
      "image/png": "[encoded data removed]",
      "text/plain": [
       "<Figure size 864x864 with 3 Axes>"
      ]
     },
     "metadata": {
      "needs_background": "light"
     },
     "output_type": "display_data"
    }
   ],
   "source": [
    "# read out image of the lens\n",
    "# g, r, and z band images\n",
    "lens_fits = fits.open(\"./stamp/fits/\"+lens_name_fits)\n",
    "lens_img = lens_fits[0].data\n",
    "lens_img_g = lens_img[0]\n",
    "lens_img_r = lens_img[1]\n",
    "lens_img_z = lens_img[2]\n",
    "\n",
    "_, axs = plt.subplots(1, 3, figsize=(12, 12))\n",
    "axs[0].imshow(lens_img_g)\n",
    "axs[0].set_title('g')\n",
    "axs[1].imshow(lens_img_r)\n",
    "axs[1].set_title('r')\n",
    "axs[2].imshow(lens_img_z)\n",
    "_ = axs[2].set_title('z')"
   ]
  },
  {
   "cell_type": "markdown",
   "metadata": {},
   "source": [
    "## 1.3 Read Lens Catalog"
   ]
  },
  {
   "cell_type": "code",
   "execution_count": 13,
   "metadata": {
    "ExecuteTime": {
     "end_time": "2022-01-30T05:52:24.168833Z",
     "start_time": "2022-01-30T05:52:24.155663Z"
    }
   },
   "outputs": [],
   "source": [
    "# read the ellpticity, P.A., re, flux and redshift\n",
    "e1_lens = cmass_df.iloc[cmass_idx][\"shapedev_e1\"]\n",
    "e2_lens = cmass_df.iloc[cmass_idx][\"shapedev_e2\"]\n",
    "re_lens = cmass_df.iloc[cmass_idx][\"rg_DEV\"] * pxl_size_real  #is the unit of rg_DEV pixel? need check\n",
    "fluxg_lens = cmass_df.iloc[cmass_idx][\"fluxg\"]\n",
    "fluxr_lens = cmass_df.iloc[cmass_idx][\"fluxr\"]\n",
    "fluxz_lens = cmass_df.iloc[cmass_idx][\"fluxz\"]\n",
    "e_lens  = np.sqrt(e1_lens**2+e2_lens**2)\n",
    "pa_lens = np.rad2deg(0.5*np.arctan2(e2_lens,e1_lens)) #clockwise direction is postive, +Y is zero\n",
    "q_lens  = 1-e_lens\n",
    "\n",
    "lens_img_g = MakeCertainFlux(lens_img_g,fluxg_lens)\n",
    "lens_img_r = MakeCertainFlux(lens_img_r,fluxr_lens)\n",
    "lens_img_z = MakeCertainFlux(lens_img_z,fluxz_lens)"
   ]
  },
  {
   "cell_type": "markdown",
   "metadata": {},
   "source": [
    "## 1.4 Mass Model"
   ]
  },
  {
   "cell_type": "code",
   "execution_count": 14,
   "metadata": {
    "ExecuteTime": {
     "end_time": "2022-01-30T05:52:24.654607Z",
     "start_time": "2022-01-30T05:52:24.618836Z"
    }
   },
   "outputs": [
    {
     "name": "stdout",
     "output_type": "stream",
     "text": [
      "254.44457981715124 42.94692583233678 0.6000371372837805 2.4090382800000003 0.39996286271621945\n"
     ]
    }
   ],
   "source": [
    "sgmv = Fluxr2Sigmav(zd,re_lens,fluxr_lens)\n",
    "print(sgmv,pa_lens,q_lens,re_lens,e_lens)"
   ]
  },
  {
   "cell_type": "markdown",
   "metadata": {
    "ExecuteTime": {
     "end_time": "2022-01-30T01:54:23.139481Z",
     "start_time": "2022-01-30T01:54:23.135108Z"
    }
   },
   "source": [
    "# 2. Source"
   ]
  },
  {
   "cell_type": "markdown",
   "metadata": {},
   "source": [
    "## 2.1 Select a Source Galaxy, Read Source Catalog"
   ]
  },
  {
   "cell_type": "code",
   "execution_count": 15,
   "metadata": {},
   "outputs": [],
   "source": [
    "#select lens from our catalog\n",
    "lens_name = 'gal00010'"
   ]
  },
  {
   "cell_type": "code",
   "execution_count": 33,
   "metadata": {},
   "outputs": [
    {
     "data": {
      "text/html": [
       "<div>\n",
       "<style scoped>\n",
       "    .dataframe tbody tr th:only-of-type {\n",
       "        vertical-align: middle;\n",
       "    }\n",
       "\n",
       "    .dataframe tbody tr th {\n",
       "        vertical-align: top;\n",
       "    }\n",
       "\n",
       "    .dataframe thead th {\n",
       "        text-align: right;\n",
       "    }\n",
       "</style>\n",
       "<table border=\"1\" class=\"dataframe\">\n",
       "  <thead>\n",
       "    <tr style=\"text-align: right;\">\n",
       "      <th></th>\n",
       "      <th>galaxy</th>\n",
       "      <th>redshift</th>\n",
       "      <th>pixscale</th>\n",
       "      <th>obs2phys</th>\n",
       "      <th>semimaj</th>\n",
       "      <th>axisrat</th>\n",
       "      <th>mag160</th>\n",
       "      <th>ra</th>\n",
       "      <th>dec</th>\n",
       "    </tr>\n",
       "  </thead>\n",
       "  <tbody>\n",
       "    <tr>\n",
       "      <th>6</th>\n",
       "      <td>gal00010</td>\n",
       "      <td>2.755</td>\n",
       "      <td>20.0</td>\n",
       "      <td>7.888097</td>\n",
       "      <td>0.2</td>\n",
       "      <td>0.45</td>\n",
       "      <td>25.5403</td>\n",
       "      <td>34.497007</td>\n",
       "      <td>-5.219383</td>\n",
       "    </tr>\n",
       "  </tbody>\n",
       "</table>\n",
       "</div>"
      ],
      "text/plain": [
       "     galaxy  redshift  pixscale  obs2phys  semimaj  axisrat   mag160  \\\n",
       "6  gal00010     2.755      20.0  7.888097      0.2     0.45  25.5403   \n",
       "\n",
       "          ra       dec  \n",
       "6  34.497007 -5.219383  "
      ]
     },
     "execution_count": 33,
     "metadata": {},
     "output_type": "execute_result"
    }
   ],
   "source": [
    "## get test source galaxy\n",
    "# image\n",
    "fname = glob.glob('allgals_flattened/JWST{}*.fits'.format(lens_name))[0]\n",
    "lens_test_fits = fits.open(fname)\n",
    "lens_img_g = lens_img_r = lens_img_z = lens_test_fits[0].data\n",
    "# catalogue\n",
    "s_z, s_pixscale, s_obs2phys, s_semimaj, s_axisrat, s_mag160, s_ra, s_dec = \\\n",
    "list(source_df[source_df['galaxy'] == lens_name].values[0][1:])\n",
    "# print source info\n",
    "source_df[source_df['galaxy'] == lens_name]\n",
    "\n",
    "\n",
    "# s_pixscale: pc/pix\n",
    "# s_obs2phys: kpc per arcsec"
   ]
  },
  {
   "cell_type": "code",
   "execution_count": 19,
   "metadata": {},
   "outputs": [],
   "source": [
    "# pixel scale (arcsec per pixel)\n",
    "pxl_size_source = s_pixscale / 1000 / s_obs2phys"
   ]
  },
  {
   "cell_type": "code",
   "execution_count": 20,
   "metadata": {},
   "outputs": [
    {
     "data": {
      "text/plain": [
       "<matplotlib.image.AxesImage at 0x7f953ccdcf50>"
      ]
     },
     "execution_count": 20,
     "metadata": {},
     "output_type": "execute_result"
    },
    {
     "data": {
      "image/png": "[encoded data removed]",
      "text/plain": [
       "<Figure size 432x288 with 1 Axes>"
      ]
     },
     "metadata": {
      "needs_background": "light"
     },
     "output_type": "display_data"
    }
   ],
   "source": [
    "## check test source galaxy\n",
    "# plot (same data for g,r,z)\n",
    "pl.imshow(lens_img_z)"
   ]
  },
  {
   "cell_type": "code",
   "execution_count": 34,
   "metadata": {},
   "outputs": [
    {
     "data": {
      "text/plain": [
       "SIMPLE  =                    T / conforms to FITS standard                      \n",
       "BITPIX  =                  -64 / array data type                                \n",
       "NAXIS   =                    2 / number of array dimensions                     \n",
       "NAXIS1  =                  477                                                  \n",
       "NAXIS2  =                  477                                                  \n",
       "EXTEND  =                    T                                                  \n",
       "ROW     =                   10 / Row in final_data_set3.fits                    \n",
       "REDSHIFT=                2.755                                                  \n",
       "MAG160  =              25.5403                                                  \n",
       "MAG606  =              26.0432                                                  \n",
       "OBS2PHYS=    7.888097168553559 / kpc per arcsec                                 \n",
       "RA      =           34.4970067 / Right Ascension                                \n",
       "DEC     =           -5.2193833 / Declination                                    \n",
       "POSANG  =               -58.63 / Position Angle in Degrees, North 0, East 90    \n",
       "AXISRAT =                 0.45                                                  \n",
       "SEMIMAJ =                  0.2 / Semimajor axis of ellipse containing 50% flux  \n",
       "SERSIC  =                 1.82 / Sersic index of smooth component               \n",
       "MAG     =               25.385 / Not sure how this differs from MAG160          \n",
       "PIXSCALE=                 20.0 / Pixel scale in pc/pix                          \n",
       "CLUMPN  =                  2.0 / Sersic index of clump profiles                 \n",
       "CLUMPFRC=   0.8859885775835111 / Fraction of light contained in clumps          \n",
       "NCLUMPS =                   97 / Number of clumps                               \n",
       "PAREXP  = 'fraction of light contained in single clump, x position, y &'        \n",
       "CONTINUE  'position, size in pixels'                                            "
      ]
     },
     "execution_count": 34,
     "metadata": {},
     "output_type": "execute_result"
    }
   ],
   "source": [
    "#source info\n",
    "lens_test_fits_orig = fits.open(\"./allgals_forstacking/\"+ fname.split('/')[-1].replace('_flat', ''))\n",
    "source_header = lens_test_fits_orig[0].header\n",
    "\n",
    "zs = source_header['REDSHIFT']\n",
    "n_src = source_header['SERSIC']\n",
    "\n",
    "re_src = magg_src = magr_src = magz_src = source_header['SEMIMAJ'] ##\n",
    "\n",
    "#show info on the source\n",
    "source_header[0:23]"
   ]
  },
  {
   "cell_type": "markdown",
   "metadata": {},
   "source": [
    "# 3. Lensed Images"
   ]
  },
  {
   "cell_type": "markdown",
   "metadata": {},
   "source": [
    "## 3.1 Generate Ideal Lensed Image"
   ]
  },
  {
   "cell_type": "code",
   "execution_count": 35,
   "metadata": {},
   "outputs": [
    {
     "name": "stdout",
     "output_type": "stream",
     "text": [
      "Source position:  0 ,  0\n"
     ]
    }
   ],
   "source": [
    "## source positions\n",
    "#source_x, source_y = np.random.randint(-10, 10)/10, np.random.randint(-10, 10)/10 #arcsec,arcsec\n",
    "source_x, source_y = 0, 0 #arcsec,arcsec\n",
    "print(\"Source position: \", source_x, \", \", source_y)"
   ]
  },
  {
   "cell_type": "code",
   "execution_count": 36,
   "metadata": {
    "ExecuteTime": {
     "end_time": "2022-01-30T05:52:26.168287Z",
     "start_time": "2022-01-30T05:52:26.145311Z"
    }
   },
   "outputs": [],
   "source": [
    "# Einstein Radius\n",
    "theta_e      = CaculateEinsteinRadius(sgmv,zd,zs)\n",
    "\n",
    "# Lens Parameters to define a SIE profile\n",
    "lpar = np.array([theta_e,source_x,source_y,pa_lens,q_lens]) \n",
    "\n",
    "\n",
    "# generate ideal lensed arcs with ray-tracing method \n",
    "# lensing happens at here\n",
    "# all in arcsec\n",
    "\n",
    "scl = 2\n",
    "xmin = -scl\n",
    "xmax =  scl\n",
    "ymin = -scl\n",
    "ymax =  scl\n",
    "\n",
    "pxl_size = pxl_size_source\n",
    "\n",
    "ptch_sky_xx, ptch_sky_yy = np.mgrid[xmin:xmax+pxl_size:pxl_size, ymin:ymax+pxl_size:pxl_size]\n",
    "ptch_sky_xx[ptch_sky_xx==0] = 1e-8\n",
    "ptch_sky_yy[ptch_sky_yy==0] = 1e-8\n",
    "alpha_xx, alpha_yy = GetDflAngle(ptch_sky_xx, ptch_sky_yy, lpar)\n",
    "\n",
    "beta_xx   = ptch_sky_xx  - alpha_xx\n",
    "beta_yy   = ptch_sky_yy  - alpha_yy\n",
    "\n",
    "light_src_g,light_src_r,light_src_z,magnification = \\\n",
    "GetLensedSRCLight(magg_src,magr_src,magz_src,re_src,beta_xx,beta_yy)"
   ]
  },
  {
   "cell_type": "code",
   "execution_count": 37,
   "metadata": {},
   "outputs": [
    {
     "data": {
      "text/plain": [
       "<matplotlib.image.AxesImage at 0x7f953cebf750>"
      ]
     },
     "execution_count": 37,
     "metadata": {},
     "output_type": "execute_result"
    },
    {
     "data": {
      "image/png": "[encoded data removed]",
      "text/plain": [
       "<Figure size 432x288 with 1 Axes>"
      ]
     },
     "metadata": {
      "needs_background": "light"
     },
     "output_type": "display_data"
    }
   ],
   "source": [
    "# pl.imshow(light_src_g)\n",
    "# pl.savefig(\"./mock/s{}_light_src.png\".format(n_source))\n",
    "pl.imshow(np.flipud(light_src_g))\n",
    "#pl.savefig(\"./mock/s{}_light_src.png\".format(n_source))"
   ]
  },
  {
   "cell_type": "markdown",
   "metadata": {},
   "source": [
    "## 3.2 PSF & Noise"
   ]
  },
  {
   "cell_type": "code",
   "execution_count": 80,
   "metadata": {
    "ExecuteTime": {
     "end_time": "2022-01-30T05:52:26.996424Z",
     "start_time": "2022-01-30T05:52:26.978414Z"
    }
   },
   "outputs": [],
   "source": [
    "#add psf\n",
    "\n",
    "#PSF scale\n",
    "g_psf_fwhm_decals = 1.26662\n",
    "r_psf_fwhm_decals = 1.13551\n",
    "z_psf_fwhm_decals = 1.11053\n",
    "\n",
    "light_src_g_psf = gaussian_filter(light_src_g, sigma=g_psf_fwhm_decals/pxl_size/2.355)\n",
    "light_src_r_psf = gaussian_filter(light_src_r, sigma=g_psf_fwhm_decals/pxl_size/2.355)\n",
    "light_src_z_psf = gaussian_filter(light_src_z, sigma=g_psf_fwhm_decals/pxl_size/2.355)"
   ]
  },
  {
   "cell_type": "code",
   "execution_count": 81,
   "metadata": {
    "ExecuteTime": {
     "end_time": "2022-01-30T05:52:27.526906Z",
     "start_time": "2022-01-30T05:52:27.515275Z"
    }
   },
   "outputs": [],
   "source": [
    "#rebin the image to match the pixel size of DeCaLs images\n",
    "light_src_g_psf_low = cv2.resize(light_src_g_psf,lens_img_g.shape,interpolation=cv2.INTER_CUBIC)\n",
    "light_src_r_psf_low = cv2.resize(light_src_r_psf,lens_img_r.shape,interpolation=cv2.INTER_CUBIC)\n",
    "light_src_z_psf_low = cv2.resize(light_src_z_psf,lens_img_z.shape,interpolation=cv2.INTER_CUBIC)\n",
    "\n",
    "light_src_g_psf_low[light_src_g_psf_low<0] = 1e-20\n",
    "light_src_r_psf_low[light_src_r_psf_low<0] = 1e-20\n",
    "light_src_z_psf_low[light_src_z_psf_low<0] = 1e-20\n",
    "\n",
    "light_src_g_psf_low = MakeCertainFlux(light_src_g_psf_low,light_src_g.sum())\n",
    "light_src_r_psf_low = MakeCertainFlux(light_src_r_psf_low,light_src_r.sum())\n",
    "light_src_z_psf_low = MakeCertainFlux(light_src_z_psf_low,light_src_z.sum())"
   ]
  },
  {
   "cell_type": "code",
   "execution_count": 82,
   "metadata": {
    "ExecuteTime": {
     "end_time": "2022-01-30T05:52:28.093737Z",
     "start_time": "2022-01-30T05:52:27.917388Z"
    }
   },
   "outputs": [
    {
     "data": {
      "text/plain": [
       "<matplotlib.colorbar.Colorbar at 0x7fe4ab0cef10>"
      ]
     },
     "execution_count": 82,
     "metadata": {},
     "output_type": "execute_result"
    },
    {
     "data": {
      "image/png": "[encoded data removed]",
      "text/plain": [
       "<Figure size 432x288 with 2 Axes>"
      ]
     },
     "metadata": {
      "needs_background": "light"
     },
     "output_type": "display_data"
    }
   ],
   "source": [
    "pl.imshow(light_src_g_psf_low)\n",
    "pl.colorbar()"
   ]
  },
  {
   "cell_type": "code",
   "execution_count": 83,
   "metadata": {
    "ExecuteTime": {
     "end_time": "2022-01-30T05:52:28.493938Z",
     "start_time": "2022-01-30T05:52:28.320113Z"
    }
   },
   "outputs": [
    {
     "data": {
      "text/plain": [
       "<matplotlib.colorbar.Colorbar at 0x7fe4ab201ed0>"
      ]
     },
     "execution_count": 83,
     "metadata": {},
     "output_type": "execute_result"
    },
    {
     "data": {
      "image/png": "[encoded data removed]",
      "text/plain": [
       "<Figure size 432x288 with 2 Axes>"
      ]
     },
     "metadata": {
      "needs_background": "light"
     },
     "output_type": "display_data"
    }
   ],
   "source": [
    "light_src_g_psf_low_poi,t = AddPOI(ideal_image=light_src_g_psf_low, exposure=166)\n",
    "light_src_r_psf_low_poi,_ = AddPOI(ideal_image=light_src_r_psf_low, exposure=134)\n",
    "light_src_z_psf_low_poi,_ = AddPOI(ideal_image=light_src_z_psf_low, exposure=200)\n",
    "pl.imshow(light_src_z_psf_low_poi)\n",
    "pl.colorbar()"
   ]
  },
  {
   "cell_type": "code",
   "execution_count": 84,
   "metadata": {
    "ExecuteTime": {
     "end_time": "2022-01-30T05:52:29.019155Z",
     "start_time": "2022-01-30T05:52:29.011065Z"
    }
   },
   "outputs": [
    {
     "data": {
      "text/plain": [
       "(-2.973590286035204, -2.9735904186261095)"
      ]
     },
     "execution_count": 84,
     "metadata": {},
     "output_type": "execute_result"
    }
   ],
   "source": [
    "22.5-2.5*np.log10(light_src_g_psf_low.sum()),22.5-2.5*np.log10(light_src_g_psf_low_poi.sum())"
   ]
  },
  {
   "cell_type": "code",
   "execution_count": 85,
   "metadata": {
    "ExecuteTime": {
     "end_time": "2022-01-30T05:52:29.460508Z",
     "start_time": "2022-01-30T05:52:29.453940Z"
    }
   },
   "outputs": [
    {
     "data": {
      "text/plain": [
       "(15468069488.190554, 15468071377.162651)"
      ]
     },
     "execution_count": 85,
     "metadata": {},
     "output_type": "execute_result"
    }
   ],
   "source": [
    "light_src_g_psf_low.sum(),light_src_g_psf_low_poi.sum()"
   ]
  },
  {
   "cell_type": "markdown",
   "metadata": {},
   "source": [
    "# 4. Mock g-g SL system"
   ]
  },
  {
   "cell_type": "code",
   "execution_count": 86,
   "metadata": {},
   "outputs": [
    {
     "data": {
      "text/plain": [
       "<matplotlib.image.AxesImage at 0x7fe4ab2fecd0>"
      ]
     },
     "execution_count": 86,
     "metadata": {},
     "output_type": "execute_result"
    },
    {
     "data": {
      "image/png": "[encoded data removed]",
      "text/plain": [
       "<Figure size 432x288 with 1 Axes>"
      ]
     },
     "metadata": {
      "needs_background": "light"
     },
     "output_type": "display_data"
    }
   ],
   "source": [
    "pl.imshow(ColorIMG(light_src_g_psf_low_poi,light_src_r_psf_low_poi,light_src_z_psf_low_poi).imgRGB, extent=[-scl,scl,-scl,scl])"
   ]
  },
  {
   "cell_type": "code",
   "execution_count": 38,
   "metadata": {},
   "outputs": [
    {
     "data": {
      "text/plain": [
       "<matplotlib.image.AxesImage at 0x7f95303fa910>"
      ]
     },
     "execution_count": 38,
     "metadata": {},
     "output_type": "execute_result"
    },
    {
     "data": {
      "image/png": "[encoded data removed]",
      "text/plain": [
       "<Figure size 432x288 with 1 Axes>"
      ]
     },
     "metadata": {
      "needs_background": "light"
     },
     "output_type": "display_data"
    }
   ],
   "source": [
    "#lens img\n",
    "pl.imshow(ColorIMG(lens_img_g,lens_img_r,lens_img_z).imgRGB, extent=[-scl, scl,-scl,scl])"
   ]
  },
  {
   "cell_type": "code",
   "execution_count": 91,
   "metadata": {
    "ExecuteTime": {
     "end_time": "2022-01-30T05:52:30.752699Z",
     "start_time": "2022-01-30T05:52:30.518006Z"
    },
    "tags": []
   },
   "outputs": [
    {
     "data": {
      "text/plain": [
       "Text(0, 0.5, '$arcsec$')"
      ]
     },
     "execution_count": 91,
     "metadata": {},
     "output_type": "execute_result"
    },
    {
     "data": {
      "image/png": "[encoded data removed]",
      "text/plain": [
       "<Figure size 576x576 with 1 Axes>"
      ]
     },
     "metadata": {
      "needs_background": "light"
     },
     "output_type": "display_data"
    }
   ],
   "source": [
    "## Paste lensed arcs to the lens image\n",
    "\n",
    "mock_g = light_src_g_psf_low_poi + lens_img_g\n",
    "mock_r = light_src_r_psf_low_poi + lens_img_r\n",
    "mock_z = light_src_z_psf_low_poi + lens_img_z\n",
    "\n",
    "# create a composite png image to demonstrate the final output\n",
    "mock_color = ColorIMG(mock_g,mock_r,mock_z)\n",
    "\n",
    "# visualization\n",
    "pl.figure(figsize=(8,8))\n",
    "pl.imshow(mock_color.imgRGB, extent=[-scl,scl,-scl,scl])\n",
    "t=pl.xticks(fontsize=15)\n",
    "t=pl.yticks(fontsize=15)\n",
    "pl.xlabel(\"$arcsec$\",fontsize=20)\n",
    "pl.ylabel(\"$arcsec$\",fontsize=20)"
   ]
  },
  {
   "cell_type": "code",
   "execution_count": 34,
   "metadata": {},
   "outputs": [],
   "source": [
    "#save as fits\n",
    "def save_simulated_img(ra, dec, mock_g, mock_r, mock_z, fname):\n",
    "    #save scale info (everything to reproduce images?)\n",
    "    data = np.zeros((40000, 40000), dtype=np.float64)\n",
    "    hdu = fits.PrimaryHDU(data=np.stack((mock_g, mock_r, mock_z)))\n",
    "    header = hdu.header\n",
    "    header['RA'] = ra\n",
    "    header['Dec'] = dec\n",
    "    hdu.writeto(fname)"
   ]
  },
  {
   "cell_type": "code",
   "execution_count": 48,
   "metadata": {},
   "outputs": [],
   "source": [
    "save_simulated_img(ra, dec, mock_g, mock_r, mock_z, 'test__.fits')"
   ]
  },
  {
   "cell_type": "code",
   "execution_count": 57,
   "metadata": {
    "ExecuteTime": {
     "end_time": "2022-01-30T05:52:31.472895Z",
     "start_time": "2022-01-30T05:52:31.361954Z"
    }
   },
   "outputs": [
    {
     "data": {
      "image/png": "[encoded data removed]",
      "text/plain": [
       "<Figure size 576x576 with 1 Axes>"
      ]
     },
     "metadata": {
      "needs_background": "light"
     },
     "output_type": "display_data"
    }
   ],
   "source": [
    "#save\n",
    "pl.figure(figsize=(8,8))\n",
    "pl.axis(\"off\")\n",
    "pl.imshow(mock_color.imgRGB)\n",
    "\n",
    "if not os.path.exists(\"./mock\"):\n",
    "    os.system(\"mkdir ./mock\")\n",
    "    \n",
    "pl.savefig(\"./mock/s{}_demo.png\".format(n_source))"
   ]
  },
  {
   "cell_type": "code",
   "execution_count": 437,
   "metadata": {},
   "outputs": [],
   "source": [
    "# save the parameters of this mock lens\n",
    "\n",
    "with open('./mock/s{}_parameters.txt'.format(n_source), 'w') as f:\n",
    "    f.write(\"Lens index: \" + str(cmass_idx) + '\\n')\n",
    "    f.write(\"Source index: \" + str(source_idx) + '\\n')\n",
    "    f.write('---------------------------------'+ '\\n')\n",
    "    f.write(\"sgmv of lens: \" + str(round(sgmv,2)) + \" km/s\" + '\\n')\n",
    "    f.write(\"magnification: \" + str(round(magnification,2)) + '\\n')\n",
    "    f.write(\"zd, zs, Einstein radius(arcsec): \" + str(round(zd,2)) + str(round(zs,2)) + str(round(theta_e,2)) + '\\n')\n",
    "    f.write(\"magi of lens   (g,r,z): \" + str(round(cmass_df.iloc[cmass_idx][\"g\"],2)) +\n",
    "            str(round(cmass_df.iloc[cmass_idx][\"r\"],2)) + str(round(cmass_df.iloc[cmass_idx][\"z\"],2)) + '\\n')\n",
    "    f.write(\"magi of source (g,r,z): \" + str(magg_src) + str(magr_src) + str(magz_src) + '\\n')\n",
    "    f.write(\"lensed source fluxr / lens fluxr:\" + str(round(light_src_r.sum()/lens_img_r.sum(),2)))"
   ]
  },
  {
   "cell_type": "code",
   "execution_count": 438,
   "metadata": {
    "ExecuteTime": {
     "end_time": "2022-01-30T05:52:33.362593Z",
     "start_time": "2022-01-30T05:52:33.346084Z"
    }
   },
   "outputs": [],
   "source": [
    "# # list the parameters of this mock lens\n",
    "\n",
    "# print(\"sgmv of lens:\", round(sgmv,2),\"km/s\")\n",
    "# print(\"magnification:\",round(magnification,2))\n",
    "# print(\"zd,zs,Einstein radius(arcsec):\", round(zd,2),round(zs,2),round(theta_e,2),)\n",
    "# print(\"magi of lens   (g,r,z):\",\\\n",
    "#       round(cmass_df.iloc[cmass_idx][\"g\"],2),round(cmass_df.iloc[cmass_idx][\"r\"],2),round(cmass_df.iloc[cmass_idx][\"z\"],2))\n",
    "# print(\"magi of source (g,r,z):\",magg_src,magr_src,magz_src)\n",
    "# print(\"lensed source fluxr / lens fluxr:\",round(light_src_r.sum()/lens_img_r.sum(),2))"
   ]
  },
  {
   "cell_type": "code",
   "execution_count": null,
   "metadata": {},
   "outputs": [],
   "source": []
  },
  {
   "cell_type": "code",
   "execution_count": null,
   "metadata": {},
   "outputs": [],
   "source": []
  }
 ],
 "metadata": {
  "kernelspec": {
   "display_name": "Python 3",
   "language": "python",
   "name": "python3"
  },
  "language_info": {
   "codemirror_mode": {
    "name": "ipython",
    "version": 3
   },
   "file_extension": ".py",
   "mimetype": "text/x-python",
   "name": "python",
   "nbconvert_exporter": "python",
   "pygments_lexer": "ipython3",
   "version": "3.7.7"
  }
 },
 "nbformat": 4,
 "nbformat_minor": 4
}
